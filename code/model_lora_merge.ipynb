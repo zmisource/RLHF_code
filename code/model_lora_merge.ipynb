{
 "cells": [
  {
   "cell_type": "code",
   "execution_count": 2,
   "id": "3a1d3c3c",
   "metadata": {},
   "outputs": [],
   "source": [
    "import torch\n",
    "from transformers import AutoModelForCausalLM, AutoTokenizer\n",
    "from peft import PeftModel\n",
    "import os"
   ]
  },
  {
   "cell_type": "code",
   "execution_count": 3,
   "id": "dadf5073",
   "metadata": {},
   "outputs": [],
   "source": [
    "# 您微调时使用的原始基础模型的Hugging Face ID\n",
    "# (根据您的目录名称，很可能就是这个)\n",
    "base_model_id = \"/train/Llama-3-8B-Instruct\"\n",
    "\n",
    "# 您的LoRA适配器所在的目录\n",
    "adapter_path = \"/llama3-8b-sympo-5e-5_0.1/checkpoint-3753\"\n",
    "\n",
    "# 您想将合并后的完整模型保存到的【新】目录\n",
    "merged_model_path = \"/llama3-8b-sympo-5e-5_0.1_merged/checkpoint-3753\""
   ]
  },
  {
   "cell_type": "code",
   "execution_count": 4,
   "id": "6d4f495d",
   "metadata": {},
   "outputs": [],
   "source": [
    "# --- 2. 执行合并的代码 ---\n",
    "\n",
    "# 确保目标目录存在\n",
    "os.makedirs(merged_model_path, exist_ok=True)"
   ]
  },
  {
   "cell_type": "code",
   "execution_count": 5,
   "id": "8382dc98",
   "metadata": {},
   "outputs": [
    {
     "name": "stderr",
     "output_type": "stream",
     "text": [
      "`torch_dtype` is deprecated! Use `dtype` instead!\n"
     ]
    },
    {
     "name": "stdout",
     "output_type": "stream",
     "text": [
      "正在加载基础模型: /train/Llama-3-8B-Instruct\n"
     ]
    },
    {
     "name": "stderr",
     "output_type": "stream",
     "text": [
      "Loading checkpoint shards: 100%|██████████| 4/4 [00:01<00:00,  2.26it/s]\n"
     ]
    },
    {
     "name": "stdout",
     "output_type": "stream",
     "text": [
      "正在加载分词器: /train/Llama-3-8B-Instruct\n"
     ]
    }
   ],
   "source": [
    "print(f\"正在加载基础模型: {base_model_id}\")\n",
    "# 加载基础模型，请确保您的Colab有足够的内存和显存\n",
    "base_model = AutoModelForCausalLM.from_pretrained(\n",
    "    base_model_id,\n",
    "    torch_dtype=torch.bfloat16,\n",
    "    device_map=\"auto\"\n",
    ")\n",
    "\n",
    "print(f\"正在加载分词器: {base_model_id}\")\n",
    "tokenizer = AutoTokenizer.from_pretrained(base_model_id)"
   ]
  },
  {
   "cell_type": "code",
   "execution_count": 6,
   "id": "87a5f8f5",
   "metadata": {},
   "outputs": [
    {
     "name": "stdout",
     "output_type": "stream",
     "text": [
      "正在加载LoRA适配器: /llama3-8b-sympo-5e-5_0.1/checkpoint-3753\n",
      "正在合并权重...\n",
      "正在将合并后的完整模型保存到: /llama3-8b-sympo-5e-5_0.1_merged/checkpoint-3753\n",
      "\n",
      "模型合并并保存完毕！\n"
     ]
    }
   ],
   "source": [
    "print(f\"正在加载LoRA适配器: {adapter_path}\")\n",
    "# 将LoRA适配器加载到基础模型上\n",
    "merged_model = PeftModel.from_pretrained(base_model, adapter_path)\n",
    "\n",
    "print(\"正在合并权重...\")\n",
    "# 合并权重，然后卸载适配器，得到一个独立的、完整的模型\n",
    "merged_model = merged_model.merge_and_unload()\n",
    "\n",
    "print(f\"正在将合并后的完整模型保存到: {merged_model_path}\")\n",
    "# 将这个新模型和分词器一起保存到新目录\n",
    "merged_model.save_pretrained(merged_model_path)\n",
    "tokenizer.save_pretrained(merged_model_path)\n",
    "\n",
    "print(\"\\n模型合并并保存完毕！\")"
   ]
  }
 ],
 "metadata": {
  "kernelspec": {
   "display_name": "advan",
   "language": "python",
   "name": "python3"
  },
  "language_info": {
   "codemirror_mode": {
    "name": "ipython",
    "version": 3
   },
   "file_extension": ".py",
   "mimetype": "text/x-python",
   "name": "python",
   "nbconvert_exporter": "python",
   "pygments_lexer": "ipython3",
   "version": "3.12.11"
  }
 },
 "nbformat": 4,
 "nbformat_minor": 5
}
